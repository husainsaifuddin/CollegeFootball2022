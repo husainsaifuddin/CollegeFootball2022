{
 "cells": [
  {
   "cell_type": "code",
   "execution_count": 90,
   "metadata": {},
   "outputs": [],
   "source": [
    "import pandas as pd\n",
    "from sklearn.svm import SVC\n",
    "from sklearn.model_selection import train_test_split"
   ]
  },
  {
   "cell_type": "code",
   "execution_count": 91,
   "metadata": {},
   "outputs": [
    {
     "data": {
      "text/plain": [
       "Index(['id', 'season', 'week', 'season_type', 'start_date', 'start_time_tbd',\n",
       "       'neutral_site', 'conference_game', 'attendance', 'venue_id', 'venue',\n",
       "       'home_id', 'home_team', 'home_conference', 'home_division',\n",
       "       'home_points', 'home_line_scores', 'home_post_win_prob',\n",
       "       'home_pregame_elo', 'home_postgame_elo', 'away_id', 'away_team',\n",
       "       'away_conference', 'away_division', 'away_points', 'away_line_scores',\n",
       "       'away_post_win_prob', 'away_pregame_elo', 'away_postgame_elo',\n",
       "       'excitement_index', 'highlights', 'notes'],\n",
       "      dtype='object')"
      ]
     },
     "execution_count": 91,
     "metadata": {},
     "output_type": "execute_result"
    }
   ],
   "source": [
    "games = pd.read_json(\"../data/games_2021.json\")\n",
    "games.columns\n"
   ]
  },
  {
   "cell_type": "code",
   "execution_count": 92,
   "metadata": {},
   "outputs": [
    {
     "data": {
      "text/html": [
       "<div>\n",
       "<style scoped>\n",
       "    .dataframe tbody tr th:only-of-type {\n",
       "        vertical-align: middle;\n",
       "    }\n",
       "\n",
       "    .dataframe tbody tr th {\n",
       "        vertical-align: top;\n",
       "    }\n",
       "\n",
       "    .dataframe thead th {\n",
       "        text-align: right;\n",
       "    }\n",
       "</style>\n",
       "<table border=\"1\" class=\"dataframe\">\n",
       "  <thead>\n",
       "    <tr style=\"text-align: right;\">\n",
       "      <th></th>\n",
       "      <th>home_points</th>\n",
       "      <th>away_points</th>\n",
       "      <th>home_win</th>\n",
       "    </tr>\n",
       "  </thead>\n",
       "  <tbody>\n",
       "    <tr>\n",
       "      <th>0</th>\n",
       "      <td>30</td>\n",
       "      <td>22</td>\n",
       "      <td>True</td>\n",
       "    </tr>\n",
       "    <tr>\n",
       "      <th>1</th>\n",
       "      <td>45</td>\n",
       "      <td>0</td>\n",
       "      <td>True</td>\n",
       "    </tr>\n",
       "    <tr>\n",
       "      <th>3</th>\n",
       "      <td>44</td>\n",
       "      <td>10</td>\n",
       "      <td>True</td>\n",
       "    </tr>\n",
       "    <tr>\n",
       "      <th>6</th>\n",
       "      <td>3</td>\n",
       "      <td>30</td>\n",
       "      <td>False</td>\n",
       "    </tr>\n",
       "    <tr>\n",
       "      <th>7</th>\n",
       "      <td>45</td>\n",
       "      <td>14</td>\n",
       "      <td>True</td>\n",
       "    </tr>\n",
       "    <tr>\n",
       "      <th>...</th>\n",
       "      <td>...</td>\n",
       "      <td>...</td>\n",
       "      <td>...</td>\n",
       "    </tr>\n",
       "    <tr>\n",
       "      <th>2396</th>\n",
       "      <td>35</td>\n",
       "      <td>20</td>\n",
       "      <td>True</td>\n",
       "    </tr>\n",
       "    <tr>\n",
       "      <th>2398</th>\n",
       "      <td>3</td>\n",
       "      <td>42</td>\n",
       "      <td>False</td>\n",
       "    </tr>\n",
       "    <tr>\n",
       "      <th>2399</th>\n",
       "      <td>21</td>\n",
       "      <td>45</td>\n",
       "      <td>False</td>\n",
       "    </tr>\n",
       "    <tr>\n",
       "      <th>2401</th>\n",
       "      <td>24</td>\n",
       "      <td>14</td>\n",
       "      <td>True</td>\n",
       "    </tr>\n",
       "    <tr>\n",
       "      <th>2405</th>\n",
       "      <td>13</td>\n",
       "      <td>17</td>\n",
       "      <td>False</td>\n",
       "    </tr>\n",
       "  </tbody>\n",
       "</table>\n",
       "<p>846 rows × 3 columns</p>\n",
       "</div>"
      ],
      "text/plain": [
       "      home_points  away_points  home_win\n",
       "0              30           22      True\n",
       "1              45            0      True\n",
       "3              44           10      True\n",
       "6               3           30     False\n",
       "7              45           14      True\n",
       "...           ...          ...       ...\n",
       "2396           35           20      True\n",
       "2398            3           42     False\n",
       "2399           21           45     False\n",
       "2401           24           14      True\n",
       "2405           13           17     False\n",
       "\n",
       "[846 rows x 3 columns]"
      ]
     },
     "execution_count": 92,
     "metadata": {},
     "output_type": "execute_result"
    }
   ],
   "source": [
    "# Gets rid of rows with missing values we need\n",
    "games = games[games[\"home_points\"].notna()]\n",
    "games = games[games[\"away_points\"].notna()]\n",
    "games = games[games[\"attendance\"].notna()]\n",
    "\n",
    "# Makes a new column called \"home_win\" with value True\n",
    "# if home_points is greater than away_points, False otherwise \n",
    "games[\"home_win\"] = games[\"home_points\"] > games[\"away_points\"]\n",
    "games[[\"home_points\", \"away_points\", \"home_win\"]]"
   ]
  },
  {
   "cell_type": "code",
   "execution_count": 93,
   "metadata": {},
   "outputs": [
    {
     "name": "stdout",
     "output_type": "stream",
     "text": [
      "634\n",
      "212\n"
     ]
    }
   ],
   "source": [
    "# Here your features (X) will just be rows with game attendance.\n",
    "# Your labels (y) will be whether home team won that game or not\n",
    "X, y = games[\"attendance\"].to_numpy().reshape(-1,1), games[\"home_win\"]\n",
    "\n",
    "# \n",
    "X_train, X_test, y_train, y_test = train_test_split(X, y, test_size=0.25)\n",
    "print(len(X_train))\n",
    "print(len(X_test))"
   ]
  },
  {
   "cell_type": "code",
   "execution_count": 95,
   "metadata": {},
   "outputs": [
    {
     "name": "stdout",
     "output_type": "stream",
     "text": [
      "0.6462264150943396\n"
     ]
    }
   ],
   "source": [
    "clf = SVC(kernel='linear', C = 1.0)\n",
    "clf.fit(X_train, y_train)\n",
    "\n",
    "# score_train = clf.score(X_train, y_train)\n",
    "score_test = clf.score(X_test, y_test)\n",
    "\n",
    "print(score_test)"
   ]
  },
  {
   "cell_type": "code",
   "execution_count": null,
   "metadata": {},
   "outputs": [],
   "source": [
    "games[\"attendance\"]"
   ]
  },
  {
   "cell_type": "code",
   "execution_count": null,
   "metadata": {},
   "outputs": [],
   "source": [
    "games[\"attendance\"].to_numpy().reshape(-1,1)"
   ]
  },
  {
   "cell_type": "code",
   "execution_count": null,
   "metadata": {},
   "outputs": [],
   "source": []
  }
 ],
 "metadata": {
  "kernelspec": {
   "display_name": "Python 3.9.12 ('base')",
   "language": "python",
   "name": "python3"
  },
  "language_info": {
   "codemirror_mode": {
    "name": "ipython",
    "version": 3
   },
   "file_extension": ".py",
   "mimetype": "text/x-python",
   "name": "python",
   "nbconvert_exporter": "python",
   "pygments_lexer": "ipython3",
   "version": "3.9.12"
  },
  "orig_nbformat": 4,
  "vscode": {
   "interpreter": {
    "hash": "e14edaf5c5389caffd78999e1423323dbf9219a7969027bff8aed669bee9880a"
   }
  }
 },
 "nbformat": 4,
 "nbformat_minor": 2
}
